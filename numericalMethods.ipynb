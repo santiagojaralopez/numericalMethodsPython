{
  "nbformat": 4,
  "nbformat_minor": 0,
  "metadata": {
    "colab": {
      "name": "numericalMethods.ipynb",
      "provenance": [],
      "authorship_tag": "ABX9TyN8A1GvCFYAP549S8e9GbvB",
      "include_colab_link": true
    },
    "kernelspec": {
      "name": "python3",
      "display_name": "Python 3"
    },
    "language_info": {
      "name": "python"
    }
  },
  "cells": [
    {
      "cell_type": "markdown",
      "metadata": {
        "id": "view-in-github",
        "colab_type": "text"
      },
      "source": [
        "<a href=\"https://colab.research.google.com/github/santiagojaralopez/numericalMethodsPython/blob/main/numericalMethods.ipynb\" target=\"_parent\"><img src=\"https://colab.research.google.com/assets/colab-badge.svg\" alt=\"Open In Colab\"/></a>"
      ]
    },
    {
      "cell_type": "markdown",
      "source": [
        "#Numerical methods with Python"
      ],
      "metadata": {
        "id": "b7sMPbvWSmNq"
      }
    },
    {
      "cell_type": "code",
      "execution_count": 2,
      "metadata": {
        "id": "DUOOCsmKL89I"
      },
      "outputs": [],
      "source": [
        "import numpy as np\n",
        "from scipy.misc import derivative"
      ]
    },
    {
      "cell_type": "markdown",
      "source": [
        "###Bisection Method"
      ],
      "metadata": {
        "id": "OJ5Vc6u3SyrI"
      }
    },
    {
      "cell_type": "code",
      "source": [
        "def bisection(function, low_lim, upp_lim, itr):\n",
        "  prev_itr = 0\n",
        "\n",
        "  for i in range(itr-1):\n",
        "    current_itr = (low_lim + upp_lim) / 2\n",
        "    error = abs( (current_itr - prev_itr) / current_itr )*100\n",
        "\n",
        "    print(f'Lower limit: {low_lim}  |  x{i}: {current_itr}  |  Upper limit: {upp_lim}')\n",
        "    print(f'f({current_itr})= {function(current_itr)}')\n",
        "    print(f'Error: {\"%.3f\"%error}%')\n",
        "    print('-'*9)\n",
        "\n",
        "    if (function(low_lim)*function(current_itr)) < 0:\n",
        "      upp_lim = current_itr\n",
        "    else:\n",
        "      low_lim = current_itr\n",
        "\n",
        "    prev_itr = current_itr\n",
        "\n",
        "  return current_itr"
      ],
      "metadata": {
        "id": "vFs76k_AS4zO"
      },
      "execution_count": 3,
      "outputs": []
    },
    {
      "cell_type": "code",
      "source": [
        "f = lambda x: np.log(x**2)-0.7\n",
        "\n",
        "ans = bisection(f, 0.5, 2, 6)"
      ],
      "metadata": {
        "colab": {
          "base_uri": "https://localhost:8080/"
        },
        "id": "320KSOcmU5HV",
        "outputId": "585714ab-b604-4ab4-a732-996d3bb78a00"
      },
      "execution_count": 4,
      "outputs": [
        {
          "output_type": "stream",
          "name": "stdout",
          "text": [
            "Lower limit: 0.5  |  x0: 1.25  |  Upper limit: 2\n",
            "f(1.25)= -0.2537128973715804\n",
            "Error: 100.000%\n",
            "---------\n",
            "Lower limit: 1.25  |  x1: 1.625  |  Upper limit: 2\n",
            "f(1.625)= 0.2710156315634017\n",
            "Error: 23.077%\n",
            "---------\n",
            "Lower limit: 1.25  |  x2: 1.4375  |  Upper limit: 1.625\n",
            "f(1.4375)= 0.025810987378736994\n",
            "Error: 13.043%\n",
            "---------\n",
            "Lower limit: 1.25  |  x3: 1.34375  |  Upper limit: 1.4375\n",
            "f(1.34375)= -0.10907157421232816\n",
            "Error: 6.977%\n",
            "---------\n",
            "Lower limit: 1.34375  |  x4: 1.390625  |  Upper limit: 1.4375\n",
            "f(1.390625)= -0.040493427255063996\n",
            "Error: 3.371%\n",
            "---------\n"
          ]
        }
      ]
    },
    {
      "cell_type": "markdown",
      "source": [
        "###Regula Falsi (False position)"
      ],
      "metadata": {
        "id": "I3ENne_zZ8i5"
      }
    },
    {
      "cell_type": "code",
      "source": [
        "def regula_falsi(function, low_lim, upp_lim, itr):\n",
        "  prev_itr = 0\n",
        "\n",
        "  for i in range(itr-1):\n",
        "    current_itr = upp_lim + (( function(upp_lim)*(low_lim-upp_lim) )/( function(upp_lim)-function(low_lim) ))\n",
        "    error = abs( (current_itr - prev_itr) / current_itr )*100\n",
        "\n",
        "    print(f'Lower limit: {low_lim}  |  x{i}: {current_itr}  |  Upper limit: {upp_lim}')\n",
        "    print(f'f({current_itr})= {function(current_itr)}')\n",
        "    print(f'Error: {\"%.3f\"%error}%')\n",
        "    print('-'*9)\n",
        "\n",
        "    if (function(low_lim)*function(current_itr)) < 0:\n",
        "      upp_lim = current_itr\n",
        "    else:\n",
        "      low_lim = current_itr\n",
        "\n",
        "    prev_itr = current_itr\n",
        "\n",
        "  return current_itr"
      ],
      "metadata": {
        "id": "0e7Xzj3NaA3f"
      },
      "execution_count": 5,
      "outputs": []
    },
    {
      "cell_type": "code",
      "source": [
        "f = lambda x: np.log(x**2)-0.7\n",
        "\n",
        "ans = regula_falsi(f, 0.5, 2, 6)"
      ],
      "metadata": {
        "colab": {
          "base_uri": "https://localhost:8080/"
        },
        "id": "IqRAuFc3bYxP",
        "outputId": "77bf3b52-197b-45ff-f5dc-884498304467"
      },
      "execution_count": 13,
      "outputs": [
        {
          "output_type": "stream",
          "name": "stdout",
          "text": [
            "Lower limit: 0.5  |  x0: 1.628707448233353  |  Upper limit: 2\n",
            "f(1.628707448233353)= 0.27557344740501244\n",
            "Error: 100.000%\n",
            "---------\n",
            "Lower limit: 0.5  |  x1: 1.4970143020298659  |  Upper limit: 1.628707448233353\n",
            "f(1.4970143020298659)= 0.10694531837203947\n",
            "Error: 8.797%\n",
            "---------\n",
            "Lower limit: 0.5  |  x2: 1.4483985429092023  |  Upper limit: 1.4970143020298659\n",
            "f(1.4483985429092023)= 0.04091698581713721\n",
            "Error: 3.357%\n",
            "---------\n",
            "Lower limit: 0.5  |  x3: 1.4301560632491133  |  Upper limit: 1.4483985429092023\n",
            "f(1.4301560632491133)= 0.01556714691249994\n",
            "Error: 1.276%\n",
            "---------\n",
            "Lower limit: 0.5  |  x4: 1.423266990856467  |  Upper limit: 1.4301560632491133\n",
            "f(1.423266990856467)= 0.005909853693258804\n",
            "Error: 0.484%\n",
            "---------\n"
          ]
        }
      ]
    },
    {
      "cell_type": "markdown",
      "source": [
        "###Fixed Point"
      ],
      "metadata": {
        "id": "0ObvJrHYgoPS"
      }
    },
    {
      "cell_type": "code",
      "source": [
        "def fixed_point(function, x_0, itr):\n",
        "  prev_itr = 0\n",
        "  current_itr = function(x_0)\n",
        "  print(f'x0= {current_itr}')\n",
        "\n",
        "  for i in range(0, itr):\n",
        "    current_itr = function(current_itr)\n",
        "    error = abs( (current_itr - prev_itr) / current_itr )*100\n",
        "\n",
        "    print(f'X{i+1}= {current_itr}')\n",
        "    print(f'Error: {\"%.3f\"%error}%')\n",
        "    print('-'*9)\n",
        "\n",
        "    prev_itr = current_itr\n",
        "\n",
        "  return current_itr"
      ],
      "metadata": {
        "id": "5_GMtsX5grMq"
      },
      "execution_count": 7,
      "outputs": []
    },
    {
      "cell_type": "code",
      "source": [
        "#In this method, to find  e^(-x)-x  root, we use  e^(-x). Remember always to add X to both sides of the equation.\n",
        "\n",
        "f = lambda x: np.exp(-x)\n",
        "\n",
        "ans = fixed_point(f, 0, 5)"
      ],
      "metadata": {
        "colab": {
          "base_uri": "https://localhost:8080/"
        },
        "id": "hb2gvO4ZhsSg",
        "outputId": "3eec72db-05a0-4c1a-f3b0-262db1266094"
      },
      "execution_count": 14,
      "outputs": [
        {
          "output_type": "stream",
          "name": "stdout",
          "text": [
            "x0= 1.0\n",
            "X1= 0.36787944117144233\n",
            "Error: 100.000%\n",
            "---------\n",
            "X2= 0.6922006275553464\n",
            "Error: 46.854%\n",
            "---------\n",
            "X3= 0.5004735005636368\n",
            "Error: 38.309%\n",
            "---------\n",
            "X4= 0.6062435350855974\n",
            "Error: 17.447%\n",
            "---------\n",
            "X5= 0.545395785975027\n",
            "Error: 11.157%\n",
            "---------\n"
          ]
        }
      ]
    },
    {
      "cell_type": "markdown",
      "source": [
        "###Newton-Raphson"
      ],
      "metadata": {
        "id": "a60uXGTikeZe"
      }
    },
    {
      "cell_type": "code",
      "source": [
        "def newton_raphson(function, x_0, itr):\n",
        "  prev_itr = 0\n",
        "  current_itr = function(x_0)\n",
        "  print(f'x0= {current_itr}')\n",
        "\n",
        "  for i in range(0, itr):\n",
        "    current_itr = current_itr - ( function(current_itr) / derivative(function, current_itr, 1e-10) )\n",
        "    error = abs( (current_itr - prev_itr) / current_itr )*100\n",
        "\n",
        "    print(f'X{i+1}= {current_itr}')\n",
        "    print(f'Error: {\"%.3f\"%error}%')\n",
        "    print('-'*9)\n",
        "\n",
        "    prev_itr = current_itr\n",
        "\n",
        "  return current_itr"
      ],
      "metadata": {
        "id": "rUX5DUxVkge6"
      },
      "execution_count": 9,
      "outputs": []
    },
    {
      "cell_type": "code",
      "source": [
        "f = lambda x: np.exp(-x) + x - 2\n",
        "\n",
        "ans = newton_raphson(f, 2, 7)"
      ],
      "metadata": {
        "colab": {
          "base_uri": "https://localhost:8080/"
        },
        "id": "RgGkjY5MlZA1",
        "outputId": "d9acc035-e77b-428a-eff4-79035f919588"
      },
      "execution_count": 15,
      "outputs": [
        {
          "output_type": "stream",
          "name": "stdout",
          "text": [
            "x0= 0.1353352832366128\n",
            "X1= 7.966500519556389\n",
            "Error: 100.000%\n",
            "---------\n",
            "X2= 1.9975860332643807\n",
            "Error: 298.806%\n",
            "---------\n",
            "X3= 1.8434235591441315\n",
            "Error: 8.363%\n",
            "---------\n",
            "X4= 1.8414060413774163\n",
            "Error: 0.110%\n",
            "---------\n",
            "X5= 1.841405660436523\n",
            "Error: 0.000%\n",
            "---------\n",
            "X6= 1.8414056604369606\n",
            "Error: 0.000%\n",
            "---------\n",
            "X7= 1.8414056604369606\n",
            "Error: 0.000%\n",
            "---------\n"
          ]
        }
      ]
    },
    {
      "cell_type": "markdown",
      "source": [
        "###Secant"
      ],
      "metadata": {
        "id": "li6397Gvf_hl"
      }
    },
    {
      "cell_type": "code",
      "source": [
        "def secant(function, xi_1, xi, itr):\n",
        "  prev_itr = 0\n",
        "\n",
        "  for i in range(itr-1):\n",
        "    current_itr = xi - ( ( function(xi)*(xi_1-xi) ) / ( f(xi_1)-f(xi) ) )\n",
        "    error = abs( (current_itr - prev_itr) / current_itr )*100\n",
        "\n",
        "    print(f'Xi-1: {xi_1}  |  x{i}: {current_itr}  |  Xi: {xi}')\n",
        "    print(f'Error: {\"%.3f\"%error}%')\n",
        "    print('-'*9)\n",
        "\n",
        "    if current_itr < xi:\n",
        "      xi_1 = current_itr\n",
        "    else:\n",
        "      xi = current_itr\n",
        "\n",
        "    prev_itr = current_itr\n",
        "\n",
        "  return current_itr"
      ],
      "metadata": {
        "id": "uS-MqpLMgA0h"
      },
      "execution_count": 11,
      "outputs": []
    },
    {
      "cell_type": "code",
      "source": [
        "f = lambda x: (x**3) + x + 16\n",
        "\n",
        "ans = secant(f, -3, -2, 5)"
      ],
      "metadata": {
        "colab": {
          "base_uri": "https://localhost:8080/"
        },
        "id": "L5DaBRSMh3tJ",
        "outputId": "c30e85d7-029f-4277-da0d-31aa11b3d63e"
      },
      "execution_count": 16,
      "outputs": [
        {
          "output_type": "stream",
          "name": "stdout",
          "text": [
            "Xi-1: -3  |  x0: -2.3  |  Xi: -2\n",
            "Error: 100.000%\n",
            "---------\n",
            "Xi-1: -2.3  |  x1: -2.4029550033579583  |  Xi: -2\n",
            "Error: 4.285%\n",
            "---------\n",
            "Xi-1: -2.4029550033579583  |  x2: -2.385106574353053  |  Xi: -2\n",
            "Error: 0.748%\n",
            "---------\n",
            "Xi-1: -2.385106574353053  |  x3: -2.388124765962737  |  Xi: -2\n",
            "Error: 0.126%\n",
            "---------\n"
          ]
        }
      ]
    }
  ]
}