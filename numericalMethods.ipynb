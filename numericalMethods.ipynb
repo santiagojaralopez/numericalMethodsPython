{
  "nbformat": 4,
  "nbformat_minor": 0,
  "metadata": {
    "colab": {
      "name": "numericalMethods.ipynb",
      "provenance": [],
      "authorship_tag": "ABX9TyMzA+Ikim6TAXjm/VyYgAQe",
      "include_colab_link": true
    },
    "kernelspec": {
      "name": "python3",
      "display_name": "Python 3"
    },
    "language_info": {
      "name": "python"
    }
  },
  "cells": [
    {
      "cell_type": "markdown",
      "metadata": {
        "id": "view-in-github",
        "colab_type": "text"
      },
      "source": [
        "<a href=\"https://colab.research.google.com/github/santiagojaralopez/numericalMethodsPython/blob/main/numericalMethods.ipynb\" target=\"_parent\"><img src=\"https://colab.research.google.com/assets/colab-badge.svg\" alt=\"Open In Colab\"/></a>"
      ]
    },
    {
      "cell_type": "markdown",
      "source": [
        "#Numerical methods with Python"
      ],
      "metadata": {
        "id": "b7sMPbvWSmNq"
      }
    },
    {
      "cell_type": "markdown",
      "source": [
        "##Installations required"
      ],
      "metadata": {
        "id": "GXTeWLV4McQD"
      }
    },
    {
      "cell_type": "code",
      "source": [
        "!pip install numdifftools"
      ],
      "metadata": {
        "id": "q8prdx2AMI0-"
      },
      "execution_count": null,
      "outputs": []
    },
    {
      "cell_type": "markdown",
      "source": [
        "##Imports required"
      ],
      "metadata": {
        "id": "-hyY_1boV4Er"
      }
    },
    {
      "cell_type": "code",
      "execution_count": 2,
      "metadata": {
        "id": "DUOOCsmKL89I"
      },
      "outputs": [],
      "source": [
        "import numpy as np\n",
        "from scipy.misc import derivative\n",
        "import numdifftools as nd"
      ]
    },
    {
      "cell_type": "markdown",
      "source": [
        "##Root-finding methods"
      ],
      "metadata": {
        "id": "T-gVTV6fLbks"
      }
    },
    {
      "cell_type": "markdown",
      "source": [
        "###Bisection Method"
      ],
      "metadata": {
        "id": "OJ5Vc6u3SyrI"
      }
    },
    {
      "cell_type": "code",
      "source": [
        "def bisection(function, low_lim, upp_lim, itr):\n",
        "  prev_itr = 0\n",
        "\n",
        "  for i in range(itr-1):\n",
        "    current_itr = (low_lim + upp_lim) / 2\n",
        "    error = abs( (current_itr - prev_itr) / current_itr )*100\n",
        "\n",
        "    print(f'Lower limit: {low_lim}  |  x{i}: {current_itr}  |  Upper limit: {upp_lim}')\n",
        "    print(f'f({current_itr})= {function(current_itr)}')\n",
        "    print(f'Error: {\"%.9f\"%error}%')\n",
        "    print('-'*9)\n",
        "\n",
        "    if (function(low_lim)*function(current_itr)) < 0:\n",
        "      upp_lim = current_itr\n",
        "    else:\n",
        "      low_lim = current_itr\n",
        "\n",
        "    prev_itr = current_itr\n",
        "\n",
        "  return current_itr"
      ],
      "metadata": {
        "id": "vFs76k_AS4zO"
      },
      "execution_count": 26,
      "outputs": []
    },
    {
      "cell_type": "code",
      "source": [
        "f = lambda x: np.log(x**2)-0.7\n",
        "\n",
        "ans = bisection(f, 0.5, 2, 6)"
      ],
      "metadata": {
        "colab": {
          "base_uri": "https://localhost:8080/"
        },
        "id": "320KSOcmU5HV",
        "outputId": "54611874-c804-47ba-bd38-8d3b06bfc04d"
      },
      "execution_count": 27,
      "outputs": [
        {
          "output_type": "stream",
          "name": "stdout",
          "text": [
            "Lower limit: 0.5  |  x0: 1.25  |  Upper limit: 2\n",
            "f(1.25)= -0.2537128973715804\n",
            "Error: 100.000000000%\n",
            "---------\n",
            "Lower limit: 1.25  |  x1: 1.625  |  Upper limit: 2\n",
            "f(1.625)= 0.2710156315634017\n",
            "Error: 23.076923077%\n",
            "---------\n",
            "Lower limit: 1.25  |  x2: 1.4375  |  Upper limit: 1.625\n",
            "f(1.4375)= 0.025810987378736994\n",
            "Error: 13.043478261%\n",
            "---------\n",
            "Lower limit: 1.25  |  x3: 1.34375  |  Upper limit: 1.4375\n",
            "f(1.34375)= -0.10907157421232816\n",
            "Error: 6.976744186%\n",
            "---------\n",
            "Lower limit: 1.34375  |  x4: 1.390625  |  Upper limit: 1.4375\n",
            "f(1.390625)= -0.040493427255063996\n",
            "Error: 3.370786517%\n",
            "---------\n"
          ]
        }
      ]
    },
    {
      "cell_type": "markdown",
      "source": [
        "###Regula Falsi (False position)"
      ],
      "metadata": {
        "id": "I3ENne_zZ8i5"
      }
    },
    {
      "cell_type": "code",
      "source": [
        "def regula_falsi(function, low_lim, upp_lim, itr):\n",
        "  prev_itr = 0\n",
        "\n",
        "  for i in range(itr-1):\n",
        "    current_itr = upp_lim + (( function(upp_lim)*(low_lim-upp_lim) )/( function(upp_lim)-function(low_lim) ))\n",
        "    error = abs( (current_itr - prev_itr) / current_itr )*100\n",
        "\n",
        "    print(f'Lower limit: {low_lim}  |  x{i}: {current_itr}  |  Upper limit: {upp_lim}')\n",
        "    print(f'f({current_itr})= {function(current_itr)}')\n",
        "    print(f'Error: {\"%.9f\"%error}%')\n",
        "    print('-'*9)\n",
        "\n",
        "    if (function(low_lim)*function(current_itr)) < 0:\n",
        "      upp_lim = current_itr\n",
        "    else:\n",
        "      low_lim = current_itr\n",
        "\n",
        "    prev_itr = current_itr\n",
        "\n",
        "  return current_itr"
      ],
      "metadata": {
        "id": "0e7Xzj3NaA3f"
      },
      "execution_count": 28,
      "outputs": []
    },
    {
      "cell_type": "code",
      "source": [
        "f = lambda x: np.log(x**2)-0.7\n",
        "\n",
        "ans = regula_falsi(f, 0.5, 2, 6)"
      ],
      "metadata": {
        "colab": {
          "base_uri": "https://localhost:8080/"
        },
        "id": "IqRAuFc3bYxP",
        "outputId": "73b690b9-20f5-4cba-c5a7-c9fbaea870eb"
      },
      "execution_count": 29,
      "outputs": [
        {
          "output_type": "stream",
          "name": "stdout",
          "text": [
            "Lower limit: 0.5  |  x0: 1.628707448233353  |  Upper limit: 2\n",
            "f(1.628707448233353)= 0.27557344740501244\n",
            "Error: 100.000000000%\n",
            "---------\n",
            "Lower limit: 0.5  |  x1: 1.4970143020298659  |  Upper limit: 1.628707448233353\n",
            "f(1.4970143020298659)= 0.10694531837203947\n",
            "Error: 8.797053310%\n",
            "---------\n",
            "Lower limit: 0.5  |  x2: 1.4483985429092023  |  Upper limit: 1.4970143020298659\n",
            "f(1.4483985429092023)= 0.04091698581713721\n",
            "Error: 3.356518091%\n",
            "---------\n",
            "Lower limit: 0.5  |  x3: 1.4301560632491133  |  Upper limit: 1.4483985429092023\n",
            "f(1.4301560632491133)= 0.01556714691249994\n",
            "Error: 1.275558670%\n",
            "---------\n",
            "Lower limit: 0.5  |  x4: 1.423266990856467  |  Upper limit: 1.4301560632491133\n",
            "f(1.423266990856467)= 0.005909853693258804\n",
            "Error: 0.484032331%\n",
            "---------\n"
          ]
        }
      ]
    },
    {
      "cell_type": "markdown",
      "source": [
        "###Fixed Point"
      ],
      "metadata": {
        "id": "0ObvJrHYgoPS"
      }
    },
    {
      "cell_type": "code",
      "source": [
        "def fixed_point(function, x_0, itr):\n",
        "  prev_itr = 0\n",
        "  current_itr = function(x_0)\n",
        "  print(f'x0= {current_itr}')\n",
        "\n",
        "  for i in range(0, itr):\n",
        "    current_itr = function(current_itr)\n",
        "    error = abs( (current_itr - prev_itr) / current_itr )*100\n",
        "\n",
        "    print(f'X{i+1}= {current_itr}')\n",
        "    print(f'Error: {\"%.9f\"%error}%')\n",
        "    print('-'*9)\n",
        "\n",
        "    prev_itr = current_itr\n",
        "\n",
        "  return current_itr"
      ],
      "metadata": {
        "id": "5_GMtsX5grMq"
      },
      "execution_count": 30,
      "outputs": []
    },
    {
      "cell_type": "code",
      "source": [
        "#In this method, to find  e^(-x)-x  root, we use  e^(-x). Remember always to add X to both sides of the equation.\n",
        "\n",
        "f = lambda x: np.exp(-x)\n",
        "\n",
        "ans = fixed_point(f, 0, 5)"
      ],
      "metadata": {
        "colab": {
          "base_uri": "https://localhost:8080/"
        },
        "id": "hb2gvO4ZhsSg",
        "outputId": "39902bc5-17d5-4273-b28e-d1e065acb6f6"
      },
      "execution_count": 31,
      "outputs": [
        {
          "output_type": "stream",
          "name": "stdout",
          "text": [
            "x0= 1.0\n",
            "X1= 0.36787944117144233\n",
            "Error: 100.000000000%\n",
            "---------\n",
            "X2= 0.6922006275553464\n",
            "Error: 46.853639461%\n",
            "---------\n",
            "X3= 0.5004735005636368\n",
            "Error: 38.309146593%\n",
            "---------\n",
            "X4= 0.6062435350855974\n",
            "Error: 17.446789681%\n",
            "---------\n",
            "X5= 0.545395785975027\n",
            "Error: 11.156622525%\n",
            "---------\n"
          ]
        }
      ]
    },
    {
      "cell_type": "markdown",
      "source": [
        "###Newton-Raphson"
      ],
      "metadata": {
        "id": "a60uXGTikeZe"
      }
    },
    {
      "cell_type": "code",
      "source": [
        "def newton_raphson(function, x_0, itr):\n",
        "  prev_itr = 0\n",
        "  current_itr = function(x_0)\n",
        "  print(f'x0= {current_itr}')\n",
        "\n",
        "  for i in range(0, itr):\n",
        "    current_itr = current_itr - ( function(current_itr) / derivative(function, current_itr, 1e-10) )\n",
        "    error = abs( (current_itr - prev_itr) / current_itr )*100\n",
        "\n",
        "    print(f'X{i+1}= {current_itr}')\n",
        "    print(f'Error: {\"%.9f\"%error}%')\n",
        "    print('-'*9)\n",
        "\n",
        "    prev_itr = current_itr\n",
        "\n",
        "  return current_itr"
      ],
      "metadata": {
        "id": "rUX5DUxVkge6"
      },
      "execution_count": 32,
      "outputs": []
    },
    {
      "cell_type": "code",
      "source": [
        "f = lambda x: np.exp(-x) + x - 2\n",
        "\n",
        "ans = newton_raphson(f, 2, 7)"
      ],
      "metadata": {
        "colab": {
          "base_uri": "https://localhost:8080/"
        },
        "id": "RgGkjY5MlZA1",
        "outputId": "ded05821-3a17-42af-f994-9ba6c67232fd"
      },
      "execution_count": 33,
      "outputs": [
        {
          "output_type": "stream",
          "name": "stdout",
          "text": [
            "x0= 0.1353352832366128\n",
            "X1= 7.966500519556389\n",
            "Error: 100.000000000%\n",
            "---------\n",
            "X2= 1.9975860332643807\n",
            "Error: 298.806378644%\n",
            "---------\n",
            "X3= 1.8434235591441315\n",
            "Error: 8.362835191%\n",
            "---------\n",
            "X4= 1.8414060413774163\n",
            "Error: 0.109563981%\n",
            "---------\n",
            "X5= 1.841405660436523\n",
            "Error: 0.000020688%\n",
            "---------\n",
            "X6= 1.8414056604369606\n",
            "Error: 0.000000000%\n",
            "---------\n",
            "X7= 1.8414056604369606\n",
            "Error: 0.000000000%\n",
            "---------\n"
          ]
        }
      ]
    },
    {
      "cell_type": "markdown",
      "source": [
        "###Secant"
      ],
      "metadata": {
        "id": "li6397Gvf_hl"
      }
    },
    {
      "cell_type": "code",
      "source": [
        "def secant(function, xi_1, xi, itr):\n",
        "  prev_itr = 0\n",
        "\n",
        "  for i in range(itr-1):\n",
        "    current_itr = xi - ( ( function(xi)*(xi_1-xi) ) / ( f(xi_1)-f(xi) ) )\n",
        "    error = abs( (current_itr - prev_itr) / current_itr )*100\n",
        "\n",
        "    print(f'Xi-1: {xi_1}  |  x{i}: {current_itr}  |  Xi: {xi}')\n",
        "    print(f'Error: {\"%.9f\"%error}%')\n",
        "    print('-'*9)\n",
        "\n",
        "    if current_itr < xi:\n",
        "      xi_1 = current_itr\n",
        "    else:\n",
        "      xi = current_itr\n",
        "\n",
        "    prev_itr = current_itr\n",
        "\n",
        "  return current_itr"
      ],
      "metadata": {
        "id": "uS-MqpLMgA0h"
      },
      "execution_count": 24,
      "outputs": []
    },
    {
      "cell_type": "code",
      "source": [
        "f = lambda x: (x**3) + x + 16\n",
        "\n",
        "ans = secant(f, -3, -2, 5)"
      ],
      "metadata": {
        "colab": {
          "base_uri": "https://localhost:8080/"
        },
        "id": "L5DaBRSMh3tJ",
        "outputId": "f81af2cd-e891-4b83-feb8-981d3a9d1052"
      },
      "execution_count": 25,
      "outputs": [
        {
          "output_type": "stream",
          "name": "stdout",
          "text": [
            "Xi-1: -3  |  x0: -2.3  |  Xi: -2\n",
            "Error: 100.000000000%\n",
            "---------\n",
            "Xi-1: -2.3  |  x1: -2.4029550033579583  |  Xi: -2\n",
            "Error: 4.284516490%\n",
            "---------\n",
            "Xi-1: -2.4029550033579583  |  x2: -2.385106574353053  |  Xi: -2\n",
            "Error: 0.748328364%\n",
            "---------\n",
            "Xi-1: -2.385106574353053  |  x3: -2.388124765962737  |  Xi: -2\n",
            "Error: 0.126383330%\n",
            "---------\n"
          ]
        }
      ]
    },
    {
      "cell_type": "markdown",
      "source": [
        "##Nonlinear equations methods"
      ],
      "metadata": {
        "id": "gLNScnt4LrDi"
      }
    },
    {
      "cell_type": "markdown",
      "source": [
        "###Newton-Raphson"
      ],
      "metadata": {
        "id": "6nURH5ReLvMA"
      }
    },
    {
      "cell_type": "code",
      "source": [
        "'''In this method we have to use partial derivatives, but in Python, the ways to calculate these derivatives are quite weird, so we are gonna\n",
        " skip all those calculations and obtain the derivatives evaluated in the required points with the \"Gradient\" (if you don't know what the\n",
        " Gradient is, I recommend you to go and take a look before trying to understand this code). Btw, happy coding :) '''\n",
        "\n",
        "def newton_raphson_nonlinear_eq(U, V, x_0, y_0, itr):\n",
        "  prev_itr_x = 0\n",
        "  prev_itr_y = 0\n",
        "\n",
        "  dUdx, dUdy = nd.Gradient(U)([x_0, y_0])\n",
        "  dVdx, dVdy = nd.Gradient(V)([x_0, y_0])\n",
        "\n",
        "  xi_1 = x_0 - ((U([x_0, y_0])*dVdy - V([x_0, y_0])*dUdy) / (dUdx*dVdy - dVdx*dUdy))\n",
        "  yi_1 = y_0 - ((V([x_0, y_0])*dUdx - U([x_0, y_0])*dVdx) / (dUdx*dVdy - dVdx*dUdy))\n",
        "\n",
        "  print(f'x0= {xi_1}')\n",
        "  print(f'y0= {yi_1}')\n",
        "  print('-'*9)\n",
        "\n",
        "  for i in range(0, itr):\n",
        "    dUdx, dUdy = nd.Gradient(U)([xi_1, yi_1])\n",
        "    dVdx, dVdy = nd.Gradient(V)([xi_1, yi_1])\n",
        "\n",
        "    xi_1 = xi_1 - ((U([xi_1, yi_1])*dVdy - V([xi_1, yi_1])*dUdy) / (dUdx*dVdy - dVdx*dUdy))\n",
        "    yi_1 = yi_1 - ((V([xi_1, yi_1])*dUdx - U([xi_1, yi_1])*dVdx) / (dUdx*dVdy - dVdx*dUdy))\n",
        "\n",
        "    error_x = abs( (xi_1 - prev_itr_x) / xi_1 )*100\n",
        "    error_y = abs( (yi_1 - prev_itr_y) / yi_1 )*100\n",
        "\n",
        "    print(f'X{i+1}= {xi_1}')\n",
        "    print(f'Y{i+1}= {yi_1}')\n",
        "    print(f'Error_x: {\"%.9f\"%error_x}%')\n",
        "    print(f'Error_y: {\"%.9f\"%error_y}%')\n",
        "    print('-'*9)\n",
        "\n",
        "    prev_itr_x = xi_1\n",
        "    prev_itr_y = yi_1\n",
        "\n",
        "  return (xi_1, yi_1)"
      ],
      "metadata": {
        "id": "rN2i3nFaB4jA"
      },
      "execution_count": 23,
      "outputs": []
    },
    {
      "cell_type": "code",
      "source": [
        "f = lambda x: (x[0]**2) + (x[0]*x[1]) - 10\n",
        "g = lambda x: x[1] + (3*x[0]*(x[1]**2)) - 57\n",
        "\n",
        "newton_raphson_nonlinear_eq(f, g, 1.5, 3.5, 5)"
      ],
      "metadata": {
        "colab": {
          "base_uri": "https://localhost:8080/"
        },
        "id": "GttFrtBaLuQS",
        "outputId": "afdef6f0-8255-49a4-d696-ab77da297ae4"
      },
      "execution_count": 22,
      "outputs": [
        {
          "output_type": "stream",
          "name": "stdout",
          "text": [
            "x0= 2.0360288230584476\n",
            "y0= 2.8438751000800644\n",
            "---------\n",
            "X1= 1.9987006090558241\n",
            "Y1= 3.002459495522139\n",
            "Error_x: 100.000000000%\n",
            "Error_y: 100.000000000%\n",
            "---------\n",
            "X2= 1.9999999353297688\n",
            "Y2= 2.999999695020434\n",
            "Error_x: 0.064966316%\n",
            "Error_y: 0.081993358%\n",
            "---------\n",
            "X3= 1.9999999999999953\n",
            "Y3= 3.0000000000000284\n",
            "Error_x: 0.000003234%\n",
            "Error_y: 0.000010166%\n",
            "---------\n",
            "X4= 1.9999999999999998\n",
            "Y4= 3.0\n",
            "Error_x: 0.000000000%\n",
            "Error_y: 0.000000000%\n",
            "---------\n",
            "X5= 2.0\n",
            "Y5= 3.0\n",
            "Error_x: 0.000000000%\n",
            "Error_y: 0.000000000%\n",
            "---------\n"
          ]
        },
        {
          "output_type": "execute_result",
          "data": {
            "text/plain": [
              "(2.0, 3.0)"
            ]
          },
          "metadata": {},
          "execution_count": 22
        }
      ]
    }
  ]
}