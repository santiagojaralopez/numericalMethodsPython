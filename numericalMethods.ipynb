{
  "nbformat": 4,
  "nbformat_minor": 0,
  "metadata": {
    "colab": {
      "name": "numericalMethods.ipynb",
      "provenance": [],
      "collapsed_sections": [],
      "authorship_tag": "ABX9TyP5b55/tD7tvx/rvFYiYNEl",
      "include_colab_link": true
    },
    "kernelspec": {
      "name": "python3",
      "display_name": "Python 3"
    },
    "language_info": {
      "name": "python"
    }
  },
  "cells": [
    {
      "cell_type": "markdown",
      "metadata": {
        "id": "view-in-github",
        "colab_type": "text"
      },
      "source": [
        "<a href=\"https://colab.research.google.com/github/santiagojaralopez/numericalMethodsPython/blob/main/numericalMethods.ipynb\" target=\"_parent\"><img src=\"https://colab.research.google.com/assets/colab-badge.svg\" alt=\"Open In Colab\"/></a>"
      ]
    },
    {
      "cell_type": "markdown",
      "source": [
        "#Numerical methods with Python"
      ],
      "metadata": {
        "id": "b7sMPbvWSmNq"
      }
    },
    {
      "cell_type": "markdown",
      "source": [
        "##Installations required"
      ],
      "metadata": {
        "id": "GXTeWLV4McQD"
      }
    },
    {
      "cell_type": "code",
      "source": [
        "!pip install numdifftools"
      ],
      "metadata": {
        "id": "q8prdx2AMI0-",
        "colab": {
          "base_uri": "https://localhost:8080/"
        },
        "outputId": "79e453e1-affd-42c4-e528-3dc106c8977e"
      },
      "execution_count": 1,
      "outputs": [
        {
          "output_type": "stream",
          "name": "stdout",
          "text": [
            "Collecting numdifftools\n",
            "  Downloading numdifftools-0.9.40-py2.py3-none-any.whl (99 kB)\n",
            "\u001b[?25l\r\u001b[K     |███▎                            | 10 kB 18.8 MB/s eta 0:00:01\r\u001b[K     |██████▋                         | 20 kB 24.2 MB/s eta 0:00:01\r\u001b[K     |██████████                      | 30 kB 28.4 MB/s eta 0:00:01\r\u001b[K     |█████████████▏                  | 40 kB 26.1 MB/s eta 0:00:01\r\u001b[K     |████████████████▌               | 51 kB 17.7 MB/s eta 0:00:01\r\u001b[K     |███████████████████▉            | 61 kB 18.9 MB/s eta 0:00:01\r\u001b[K     |███████████████████████▏        | 71 kB 20.6 MB/s eta 0:00:01\r\u001b[K     |██████████████████████████▍     | 81 kB 21.8 MB/s eta 0:00:01\r\u001b[K     |█████████████████████████████▊  | 92 kB 23.6 MB/s eta 0:00:01\r\u001b[K     |████████████████████████████████| 99 kB 6.2 MB/s \n",
            "\u001b[?25hRequirement already satisfied: scipy>=0.8 in /usr/local/lib/python3.7/dist-packages (from numdifftools) (1.4.1)\n",
            "Requirement already satisfied: numpy>=1.9 in /usr/local/lib/python3.7/dist-packages (from numdifftools) (1.21.5)\n",
            "Collecting algopy>=0.4\n",
            "  Downloading algopy-0.5.7.zip (189 kB)\n",
            "\u001b[K     |████████████████████████████████| 189 kB 48.1 MB/s \n",
            "\u001b[?25hRequirement already satisfied: statsmodels>=0.6 in /usr/local/lib/python3.7/dist-packages (from numdifftools) (0.10.2)\n",
            "Requirement already satisfied: patsy>=0.4.0 in /usr/local/lib/python3.7/dist-packages (from statsmodels>=0.6->numdifftools) (0.5.2)\n",
            "Requirement already satisfied: pandas>=0.19 in /usr/local/lib/python3.7/dist-packages (from statsmodels>=0.6->numdifftools) (1.3.5)\n",
            "Requirement already satisfied: python-dateutil>=2.7.3 in /usr/local/lib/python3.7/dist-packages (from pandas>=0.19->statsmodels>=0.6->numdifftools) (2.8.2)\n",
            "Requirement already satisfied: pytz>=2017.3 in /usr/local/lib/python3.7/dist-packages (from pandas>=0.19->statsmodels>=0.6->numdifftools) (2018.9)\n",
            "Requirement already satisfied: six in /usr/local/lib/python3.7/dist-packages (from patsy>=0.4.0->statsmodels>=0.6->numdifftools) (1.15.0)\n",
            "Building wheels for collected packages: algopy\n",
            "  Building wheel for algopy (setup.py) ... \u001b[?25l\u001b[?25hdone\n",
            "  Created wheel for algopy: filename=algopy-0.5.7-py3-none-any.whl size=107608 sha256=ef3e6ff8f083e208803a700376e3a640dce22c8ad939cf468635ebb76df4e0c8\n",
            "  Stored in directory: /root/.cache/pip/wheels/a8/fd/06/21dc6aba9f680fdbde386c06b1a8a1cf3d9a5f6bd96e31dcd4\n",
            "Successfully built algopy\n",
            "Installing collected packages: algopy, numdifftools\n",
            "Successfully installed algopy-0.5.7 numdifftools-0.9.40\n"
          ]
        }
      ]
    },
    {
      "cell_type": "markdown",
      "source": [
        "##Imports required"
      ],
      "metadata": {
        "id": "-hyY_1boV4Er"
      }
    },
    {
      "cell_type": "code",
      "execution_count": 2,
      "metadata": {
        "id": "DUOOCsmKL89I"
      },
      "outputs": [],
      "source": [
        "import numpy as np\n",
        "from scipy.misc import derivative\n",
        "import numdifftools as nd\n",
        "import pandas as pd\n",
        "import matplotlib.pyplot as plt\n",
        "from scipy.interpolate import CubicSpline"
      ]
    },
    {
      "cell_type": "markdown",
      "source": [
        "##Root-finding methods"
      ],
      "metadata": {
        "id": "T-gVTV6fLbks"
      }
    },
    {
      "cell_type": "markdown",
      "source": [
        "###Bisection Method"
      ],
      "metadata": {
        "id": "OJ5Vc6u3SyrI"
      }
    },
    {
      "cell_type": "code",
      "source": [
        "def bisection(function: 'function', low_lim: float, upp_lim: float, itr: int) -> float:\n",
        "  prev_itr = 0\n",
        "\n",
        "  for i in range(itr-1):\n",
        "    current_itr = (low_lim + upp_lim) / 2\n",
        "    error = abs( (current_itr - prev_itr) / current_itr )*100\n",
        "\n",
        "    print(f'Lower limit: {low_lim}  |  x{i}: {current_itr}  |  Upper limit: {upp_lim}')\n",
        "    print(f'f({current_itr})= {function(current_itr)}')\n",
        "    print(f'Error: {\"%.9f\"%error}%')\n",
        "    print('-'*9)\n",
        "\n",
        "    if (function(low_lim)*function(current_itr)) < 0:\n",
        "      upp_lim = current_itr\n",
        "    else:\n",
        "      low_lim = current_itr\n",
        "\n",
        "    prev_itr = current_itr\n",
        "\n",
        "  return current_itr"
      ],
      "metadata": {
        "id": "vFs76k_AS4zO"
      },
      "execution_count": null,
      "outputs": []
    },
    {
      "cell_type": "code",
      "source": [
        "f = lambda x: np.log(x**2)-0.7\n",
        "\n",
        "ans = bisection(f, 0.5, 2, 6)"
      ],
      "metadata": {
        "colab": {
          "base_uri": "https://localhost:8080/"
        },
        "id": "320KSOcmU5HV",
        "outputId": "bd88006a-4ad2-4528-c009-e9fd923f0f3d"
      },
      "execution_count": null,
      "outputs": [
        {
          "output_type": "stream",
          "name": "stdout",
          "text": [
            "Lower limit: 0.5  |  x0: 1.25  |  Upper limit: 2\n",
            "f(1.25)= -0.2537128973715804\n",
            "Error: 100.000000000%\n",
            "---------\n",
            "Lower limit: 1.25  |  x1: 1.625  |  Upper limit: 2\n",
            "f(1.625)= 0.2710156315634017\n",
            "Error: 23.076923077%\n",
            "---------\n",
            "Lower limit: 1.25  |  x2: 1.4375  |  Upper limit: 1.625\n",
            "f(1.4375)= 0.025810987378736994\n",
            "Error: 13.043478261%\n",
            "---------\n",
            "Lower limit: 1.25  |  x3: 1.34375  |  Upper limit: 1.4375\n",
            "f(1.34375)= -0.10907157421232816\n",
            "Error: 6.976744186%\n",
            "---------\n",
            "Lower limit: 1.34375  |  x4: 1.390625  |  Upper limit: 1.4375\n",
            "f(1.390625)= -0.040493427255063996\n",
            "Error: 3.370786517%\n",
            "---------\n"
          ]
        }
      ]
    },
    {
      "cell_type": "markdown",
      "source": [
        "###Regula Falsi (False position)"
      ],
      "metadata": {
        "id": "I3ENne_zZ8i5"
      }
    },
    {
      "cell_type": "code",
      "source": [
        "def regula_falsi(function: 'function', low_lim: float, upp_lim: float, itr: int) -> float:\n",
        "  prev_itr = 0\n",
        "\n",
        "  for i in range(itr-1):\n",
        "    current_itr = upp_lim + (( function(upp_lim)*(low_lim-upp_lim) )/( function(upp_lim)-function(low_lim) ))\n",
        "    error = abs( (current_itr - prev_itr) / current_itr )*100\n",
        "\n",
        "    print(f'Lower limit: {low_lim}  |  x{i}: {current_itr}  |  Upper limit: {upp_lim}')\n",
        "    print(f'f({current_itr})= {function(current_itr)}')\n",
        "    print(f'Error: {\"%.9f\"%error}%')\n",
        "    print('-'*9)\n",
        "\n",
        "    if (function(low_lim)*function(current_itr)) < 0:\n",
        "      upp_lim = current_itr\n",
        "    else:\n",
        "      low_lim = current_itr\n",
        "\n",
        "    prev_itr = current_itr\n",
        "\n",
        "  return current_itr"
      ],
      "metadata": {
        "id": "0e7Xzj3NaA3f"
      },
      "execution_count": null,
      "outputs": []
    },
    {
      "cell_type": "code",
      "source": [
        "f = lambda x: np.log(x**2)-0.7\n",
        "\n",
        "ans = regula_falsi(f, 0.5, 2, 6)"
      ],
      "metadata": {
        "colab": {
          "base_uri": "https://localhost:8080/"
        },
        "id": "IqRAuFc3bYxP",
        "outputId": "0eaac157-9861-40d8-a22d-fdc7ba111997"
      },
      "execution_count": null,
      "outputs": [
        {
          "output_type": "stream",
          "name": "stdout",
          "text": [
            "Lower limit: 0.5  |  x0: 1.628707448233353  |  Upper limit: 2\n",
            "f(1.628707448233353)= 0.27557344740501244\n",
            "Error: 100.000000000%\n",
            "---------\n",
            "Lower limit: 0.5  |  x1: 1.4970143020298659  |  Upper limit: 1.628707448233353\n",
            "f(1.4970143020298659)= 0.10694531837203947\n",
            "Error: 8.797053310%\n",
            "---------\n",
            "Lower limit: 0.5  |  x2: 1.4483985429092023  |  Upper limit: 1.4970143020298659\n",
            "f(1.4483985429092023)= 0.04091698581713721\n",
            "Error: 3.356518091%\n",
            "---------\n",
            "Lower limit: 0.5  |  x3: 1.4301560632491133  |  Upper limit: 1.4483985429092023\n",
            "f(1.4301560632491133)= 0.01556714691249994\n",
            "Error: 1.275558670%\n",
            "---------\n",
            "Lower limit: 0.5  |  x4: 1.423266990856467  |  Upper limit: 1.4301560632491133\n",
            "f(1.423266990856467)= 0.005909853693258804\n",
            "Error: 0.484032331%\n",
            "---------\n"
          ]
        }
      ]
    },
    {
      "cell_type": "markdown",
      "source": [
        "###Fixed Point"
      ],
      "metadata": {
        "id": "0ObvJrHYgoPS"
      }
    },
    {
      "cell_type": "code",
      "source": [
        "def fixed_point(function: 'function', x_0: float, itr: int) -> float:\n",
        "  prev_itr = 0\n",
        "  current_itr = function(x_0)\n",
        "  print(f'x0= {current_itr}')\n",
        "\n",
        "  for i in range(0, itr):\n",
        "    current_itr = function(current_itr)\n",
        "    error = abs( (current_itr - prev_itr) / current_itr )*100\n",
        "\n",
        "    print(f'X{i+1}= {current_itr}')\n",
        "    print(f'Error: {\"%.9f\"%error}%')\n",
        "    print('-'*9)\n",
        "\n",
        "    prev_itr = current_itr\n",
        "\n",
        "  return current_itr"
      ],
      "metadata": {
        "id": "5_GMtsX5grMq"
      },
      "execution_count": null,
      "outputs": []
    },
    {
      "cell_type": "code",
      "source": [
        "#In this method, to find  e^(-x)-x  root, we use  e^(-x). Remember always to add X to both sides of the equation.\n",
        "\n",
        "f = lambda x: np.exp(-x)\n",
        "\n",
        "ans = fixed_point(f, 0, 5)"
      ],
      "metadata": {
        "colab": {
          "base_uri": "https://localhost:8080/"
        },
        "id": "hb2gvO4ZhsSg",
        "outputId": "eb5d8d49-28df-4e86-c68c-068e865a0065"
      },
      "execution_count": null,
      "outputs": [
        {
          "output_type": "stream",
          "name": "stdout",
          "text": [
            "x0= 1.0\n",
            "X1= 0.36787944117144233\n",
            "Error: 100.000000000%\n",
            "---------\n",
            "X2= 0.6922006275553464\n",
            "Error: 46.853639461%\n",
            "---------\n",
            "X3= 0.5004735005636368\n",
            "Error: 38.309146593%\n",
            "---------\n",
            "X4= 0.6062435350855974\n",
            "Error: 17.446789681%\n",
            "---------\n",
            "X5= 0.545395785975027\n",
            "Error: 11.156622525%\n",
            "---------\n"
          ]
        }
      ]
    },
    {
      "cell_type": "markdown",
      "source": [
        "###Newton-Raphson"
      ],
      "metadata": {
        "id": "a60uXGTikeZe"
      }
    },
    {
      "cell_type": "code",
      "source": [
        "def newton_raphson(function: 'function', x_0: float, itr: int) -> float:\n",
        "  prev_itr = 0\n",
        "  current_itr = function(x_0)\n",
        "  print(f'x0= {current_itr}')\n",
        "\n",
        "  for i in range(0, itr):\n",
        "    current_itr = current_itr - ( function(current_itr) / derivative(function, current_itr, 1e-10) )\n",
        "    error = abs( (current_itr - prev_itr) / current_itr )*100\n",
        "\n",
        "    print(f'X{i+1}= {current_itr}')\n",
        "    print(f'Error: {\"%.9f\"%error}%')\n",
        "    print('-'*9)\n",
        "\n",
        "    prev_itr = current_itr\n",
        "\n",
        "  return current_itr"
      ],
      "metadata": {
        "id": "rUX5DUxVkge6"
      },
      "execution_count": null,
      "outputs": []
    },
    {
      "cell_type": "code",
      "source": [
        "f = lambda x: np.exp(-x) + x - 2\n",
        "\n",
        "ans = newton_raphson(f, 2, 7)"
      ],
      "metadata": {
        "colab": {
          "base_uri": "https://localhost:8080/"
        },
        "id": "RgGkjY5MlZA1",
        "outputId": "49e5f0a6-5fd5-49b4-9b53-3844627bcd1f"
      },
      "execution_count": null,
      "outputs": [
        {
          "output_type": "stream",
          "name": "stdout",
          "text": [
            "x0= 0.1353352832366128\n",
            "X1= 7.966500519556389\n",
            "Error: 100.000000000%\n",
            "---------\n",
            "X2= 1.9975860332643807\n",
            "Error: 298.806378644%\n",
            "---------\n",
            "X3= 1.8434235591441315\n",
            "Error: 8.362835191%\n",
            "---------\n",
            "X4= 1.8414060413774163\n",
            "Error: 0.109563981%\n",
            "---------\n",
            "X5= 1.841405660436523\n",
            "Error: 0.000020688%\n",
            "---------\n",
            "X6= 1.8414056604369606\n",
            "Error: 0.000000000%\n",
            "---------\n",
            "X7= 1.8414056604369606\n",
            "Error: 0.000000000%\n",
            "---------\n"
          ]
        }
      ]
    },
    {
      "cell_type": "markdown",
      "source": [
        "###Secant"
      ],
      "metadata": {
        "id": "li6397Gvf_hl"
      }
    },
    {
      "cell_type": "code",
      "source": [
        "def secant(function: 'function', xi_1: float, xi: float, itr: int) -> float:\n",
        "  prev_itr = 0\n",
        "\n",
        "  for i in range(itr-1):\n",
        "    current_itr = xi - ( ( function(xi)*(xi_1-xi) ) / ( f(xi_1)-f(xi) ) )\n",
        "    error = abs( (current_itr - prev_itr) / current_itr )*100\n",
        "\n",
        "    print(f'Xi-1: {xi_1}  |  x{i}: {current_itr}  |  Xi: {xi}')\n",
        "    print(f'Error: {\"%.9f\"%error}%')\n",
        "    print('-'*9)\n",
        "\n",
        "    if current_itr < xi:\n",
        "      xi_1 = current_itr\n",
        "    else:\n",
        "      xi = current_itr\n",
        "\n",
        "    prev_itr = current_itr\n",
        "\n",
        "  return current_itr"
      ],
      "metadata": {
        "id": "uS-MqpLMgA0h"
      },
      "execution_count": null,
      "outputs": []
    },
    {
      "cell_type": "code",
      "source": [
        "f = lambda x: (x**3) + x + 16\n",
        "\n",
        "ans = secant(f, -3, -2, 5)"
      ],
      "metadata": {
        "colab": {
          "base_uri": "https://localhost:8080/"
        },
        "id": "L5DaBRSMh3tJ",
        "outputId": "8a5f3b2c-01d5-44e6-f08c-8b092f3ce1d1"
      },
      "execution_count": null,
      "outputs": [
        {
          "output_type": "stream",
          "name": "stdout",
          "text": [
            "Xi-1: -3  |  x0: -2.3  |  Xi: -2\n",
            "Error: 100.000000000%\n",
            "---------\n",
            "Xi-1: -2.3  |  x1: -2.4029550033579583  |  Xi: -2\n",
            "Error: 4.284516490%\n",
            "---------\n",
            "Xi-1: -2.4029550033579583  |  x2: -2.385106574353053  |  Xi: -2\n",
            "Error: 0.748328364%\n",
            "---------\n",
            "Xi-1: -2.385106574353053  |  x3: -2.388124765962737  |  Xi: -2\n",
            "Error: 0.126383330%\n",
            "---------\n"
          ]
        }
      ]
    },
    {
      "cell_type": "markdown",
      "source": [
        "##Nonlinear equations methods"
      ],
      "metadata": {
        "id": "gLNScnt4LrDi"
      }
    },
    {
      "cell_type": "markdown",
      "source": [
        "###Newton-Raphson"
      ],
      "metadata": {
        "id": "6nURH5ReLvMA"
      }
    },
    {
      "cell_type": "code",
      "source": [
        "'''In this method we have to use partial derivatives, however, in Python, the ways to calculate these derivatives are quite weird, so we are gonna\n",
        " skip all those calculations and obtain the derivatives evaluated in the required points with the \"Gradient\" (if you don't know what the\n",
        " Gradient is, I recommend you to go and take a look before trying to understand this code). Happy coding :) '''\n",
        "\n",
        "def newton_raphson_nonlinear_eq(U: 'function', V: 'function', x_0: float, y_0: float, itr: int) -> tuple:\n",
        "  prev_itr_x = 0\n",
        "  prev_itr_y = 0\n",
        "\n",
        "  dUdx, dUdy = nd.Gradient(U)([x_0, y_0])\n",
        "  dVdx, dVdy = nd.Gradient(V)([x_0, y_0])\n",
        "\n",
        "  xi_1 = x_0 - ((U([x_0, y_0])*dVdy - V([x_0, y_0])*dUdy) / (dUdx*dVdy - dVdx*dUdy))\n",
        "  yi_1 = y_0 - ((V([x_0, y_0])*dUdx - U([x_0, y_0])*dVdx) / (dUdx*dVdy - dVdx*dUdy))\n",
        "\n",
        "  print(f'x0= {xi_1}')\n",
        "  print(f'y0= {yi_1}')\n",
        "  print('-'*9)\n",
        "\n",
        "  for i in range(0, itr):\n",
        "    dUdx, dUdy = nd.Gradient(U)([xi_1, yi_1])\n",
        "    dVdx, dVdy = nd.Gradient(V)([xi_1, yi_1])\n",
        "\n",
        "    xi_1 = xi_1 - ((U([xi_1, yi_1])*dVdy - V([xi_1, yi_1])*dUdy) / (dUdx*dVdy - dVdx*dUdy))\n",
        "    yi_1 = yi_1 - ((V([xi_1, yi_1])*dUdx - U([xi_1, yi_1])*dVdx) / (dUdx*dVdy - dVdx*dUdy))\n",
        "\n",
        "    error_x = abs( (xi_1 - prev_itr_x) / xi_1 )*100\n",
        "    error_y = abs( (yi_1 - prev_itr_y) / yi_1 )*100\n",
        "\n",
        "    print(f'X{i+1}= {xi_1}')\n",
        "    print(f'Y{i+1}= {yi_1}')\n",
        "    print(f'Error_x: {\"%.9f\"%error_x}%')\n",
        "    print(f'Error_y: {\"%.9f\"%error_y}%')\n",
        "    print('-'*9)\n",
        "\n",
        "    prev_itr_x = xi_1\n",
        "    prev_itr_y = yi_1\n",
        "\n",
        "  return (xi_1, yi_1)"
      ],
      "metadata": {
        "id": "rN2i3nFaB4jA"
      },
      "execution_count": null,
      "outputs": []
    },
    {
      "cell_type": "code",
      "source": [
        "f = lambda x: (x[0]**2) + (x[0]*x[1]) - 10\n",
        "g = lambda x: x[1] + (3*x[0]*(x[1]**2)) - 57\n",
        "\n",
        "newton_raphson_nonlinear_eq(f, g, 1.5, 3.5, 5)"
      ],
      "metadata": {
        "colab": {
          "base_uri": "https://localhost:8080/"
        },
        "id": "GttFrtBaLuQS",
        "outputId": "d8d0b35c-a87f-4b2d-8237-083c778c50cb"
      },
      "execution_count": null,
      "outputs": [
        {
          "output_type": "stream",
          "name": "stdout",
          "text": [
            "x0= 2.0360288230584476\n",
            "y0= 2.8438751000800644\n",
            "---------\n",
            "X1= 1.9987006090558241\n",
            "Y1= 3.002459495522139\n",
            "Error_x: 100.000000000%\n",
            "Error_y: 100.000000000%\n",
            "---------\n",
            "X2= 1.9999999353297688\n",
            "Y2= 2.999999695020434\n",
            "Error_x: 0.064966316%\n",
            "Error_y: 0.081993358%\n",
            "---------\n",
            "X3= 1.9999999999999953\n",
            "Y3= 3.0000000000000284\n",
            "Error_x: 0.000003234%\n",
            "Error_y: 0.000010166%\n",
            "---------\n",
            "X4= 1.9999999999999998\n",
            "Y4= 3.0\n",
            "Error_x: 0.000000000%\n",
            "Error_y: 0.000000000%\n",
            "---------\n",
            "X5= 2.0\n",
            "Y5= 3.0\n",
            "Error_x: 0.000000000%\n",
            "Error_y: 0.000000000%\n",
            "---------\n"
          ]
        },
        {
          "output_type": "execute_result",
          "data": {
            "text/plain": [
              "(2.0, 3.0)"
            ]
          },
          "metadata": {},
          "execution_count": 14
        }
      ]
    },
    {
      "cell_type": "markdown",
      "source": [
        "##Polynomial Interpolation"
      ],
      "metadata": {
        "id": "RLMd4TR01yo2"
      }
    },
    {
      "cell_type": "markdown",
      "source": [
        "###Lagrange Polynomial"
      ],
      "metadata": {
        "id": "v4riOQ_O13_M"
      }
    },
    {
      "cell_type": "code",
      "source": [
        "def lagrange_polynomial(X: tuple, Y: tuple, values_amount: int):\n",
        "  polynomial = \"\"\n",
        "\n",
        "  if len(X) != len(Y):\n",
        "    raise NameError('Tuples different length')\n",
        "  else:\n",
        "    for k in range(values_amount):\n",
        "      for i in range(values_amount):\n",
        "        if i != k:\n",
        "          polynomial += f\"[( x-({X[i]}) ) / ({X[k]-X[i]})] \"\n",
        "        else:\n",
        "          continue\n",
        "    \n",
        "      polynomial += f\" [{Y[k]}] +\\n\" if k!=values_amount-1 else f\" [{Y[k]}]\"\n",
        "\n",
        "  print(polynomial)"
      ],
      "metadata": {
        "id": "t6P4f0Xt13B5"
      },
      "execution_count": null,
      "outputs": []
    },
    {
      "cell_type": "code",
      "source": [
        "lagrange_polynomial((-3, 5, 7, 8), (9, 2, -1, 0), 4)"
      ],
      "metadata": {
        "colab": {
          "base_uri": "https://localhost:8080/"
        },
        "id": "IIbtqx9e6uIg",
        "outputId": "20bfe97a-d628-4d01-9070-0e8e409fac11"
      },
      "execution_count": null,
      "outputs": [
        {
          "output_type": "stream",
          "name": "stdout",
          "text": [
            "[( x-(5) ) / (-8)] [( x-(7) ) / (-10)] [( x-(8) ) / (-11)]  [9] +\n",
            "[( x-(-3) ) / (8)] [( x-(7) ) / (-2)] [( x-(8) ) / (-3)]  [2] +\n",
            "[( x-(-3) ) / (10)] [( x-(5) ) / (2)] [( x-(8) ) / (-1)]  [-1] +\n",
            "[( x-(-3) ) / (11)] [( x-(5) ) / (3)] [( x-(7) ) / (1)]  [0]\n"
          ]
        }
      ]
    },
    {
      "cell_type": "markdown",
      "source": [
        "###Newton Polynomial"
      ],
      "metadata": {
        "id": "CDdkUNkGq5RP"
      }
    },
    {
      "cell_type": "code",
      "source": [
        "def newton_interpolation(X: tuple, Y: tuple):\n",
        "  n=len(X)\n",
        "  A=np.zeros([n,n])\n",
        "  \n",
        "  for i in range(0,n):\n",
        "    A[i][0] = Y[i]\n",
        "  \n",
        "  for j in range(1,n):\n",
        "    for i in range(j,n):\n",
        "      A[i][j] = (A[i][j-1] - A[i-1][j-1])/(X[i]-X[i-j])\n",
        "    \n",
        "  return A"
      ],
      "metadata": {
        "id": "gzE-QGmSq_b3"
      },
      "execution_count": null,
      "outputs": []
    },
    {
      "cell_type": "code",
      "source": [
        "X = (1930, 1940, 1950, 1960, 1970, 1980)\n",
        "Y = (123203, 131669, 150697, 179323, 203212, 226505)\n",
        "df = pd.DataFrame( newton_interpolation(X, Y) )\n",
        "df"
      ],
      "metadata": {
        "colab": {
          "base_uri": "https://localhost:8080/",
          "height": 238
        },
        "id": "xE_KLO46rp_9",
        "outputId": "12be2ee9-93f7-4e06-e680-9b16039c3b98"
      },
      "execution_count": null,
      "outputs": [
        {
          "output_type": "execute_result",
          "data": {
            "text/html": [
              "\n",
              "  <div id=\"df-534c4b92-c471-4aa6-81b0-786d566a55f4\">\n",
              "    <div class=\"colab-df-container\">\n",
              "      <div>\n",
              "<style scoped>\n",
              "    .dataframe tbody tr th:only-of-type {\n",
              "        vertical-align: middle;\n",
              "    }\n",
              "\n",
              "    .dataframe tbody tr th {\n",
              "        vertical-align: top;\n",
              "    }\n",
              "\n",
              "    .dataframe thead th {\n",
              "        text-align: right;\n",
              "    }\n",
              "</style>\n",
              "<table border=\"1\" class=\"dataframe\">\n",
              "  <thead>\n",
              "    <tr style=\"text-align: right;\">\n",
              "      <th></th>\n",
              "      <th>0</th>\n",
              "      <th>1</th>\n",
              "      <th>2</th>\n",
              "      <th>3</th>\n",
              "      <th>4</th>\n",
              "      <th>5</th>\n",
              "    </tr>\n",
              "  </thead>\n",
              "  <tbody>\n",
              "    <tr>\n",
              "      <th>0</th>\n",
              "      <td>123203.0</td>\n",
              "      <td>0.0</td>\n",
              "      <td>0.000</td>\n",
              "      <td>0.000000</td>\n",
              "      <td>0.000000</td>\n",
              "      <td>0.000000</td>\n",
              "    </tr>\n",
              "    <tr>\n",
              "      <th>1</th>\n",
              "      <td>131669.0</td>\n",
              "      <td>846.6</td>\n",
              "      <td>0.000</td>\n",
              "      <td>0.000000</td>\n",
              "      <td>0.000000</td>\n",
              "      <td>0.000000</td>\n",
              "    </tr>\n",
              "    <tr>\n",
              "      <th>2</th>\n",
              "      <td>150697.0</td>\n",
              "      <td>1902.8</td>\n",
              "      <td>52.810</td>\n",
              "      <td>0.000000</td>\n",
              "      <td>0.000000</td>\n",
              "      <td>0.000000</td>\n",
              "    </tr>\n",
              "    <tr>\n",
              "      <th>3</th>\n",
              "      <td>179323.0</td>\n",
              "      <td>2862.6</td>\n",
              "      <td>47.990</td>\n",
              "      <td>-0.160667</td>\n",
              "      <td>0.000000</td>\n",
              "      <td>0.000000</td>\n",
              "    </tr>\n",
              "    <tr>\n",
              "      <th>4</th>\n",
              "      <td>203212.0</td>\n",
              "      <td>2388.9</td>\n",
              "      <td>-23.685</td>\n",
              "      <td>-2.389167</td>\n",
              "      <td>-0.055712</td>\n",
              "      <td>0.000000</td>\n",
              "    </tr>\n",
              "    <tr>\n",
              "      <th>5</th>\n",
              "      <td>226505.0</td>\n",
              "      <td>2329.3</td>\n",
              "      <td>-2.980</td>\n",
              "      <td>0.690167</td>\n",
              "      <td>0.076983</td>\n",
              "      <td>0.002654</td>\n",
              "    </tr>\n",
              "  </tbody>\n",
              "</table>\n",
              "</div>\n",
              "      <button class=\"colab-df-convert\" onclick=\"convertToInteractive('df-534c4b92-c471-4aa6-81b0-786d566a55f4')\"\n",
              "              title=\"Convert this dataframe to an interactive table.\"\n",
              "              style=\"display:none;\">\n",
              "        \n",
              "  <svg xmlns=\"http://www.w3.org/2000/svg\" height=\"24px\"viewBox=\"0 0 24 24\"\n",
              "       width=\"24px\">\n",
              "    <path d=\"M0 0h24v24H0V0z\" fill=\"none\"/>\n",
              "    <path d=\"M18.56 5.44l.94 2.06.94-2.06 2.06-.94-2.06-.94-.94-2.06-.94 2.06-2.06.94zm-11 1L8.5 8.5l.94-2.06 2.06-.94-2.06-.94L8.5 2.5l-.94 2.06-2.06.94zm10 10l.94 2.06.94-2.06 2.06-.94-2.06-.94-.94-2.06-.94 2.06-2.06.94z\"/><path d=\"M17.41 7.96l-1.37-1.37c-.4-.4-.92-.59-1.43-.59-.52 0-1.04.2-1.43.59L10.3 9.45l-7.72 7.72c-.78.78-.78 2.05 0 2.83L4 21.41c.39.39.9.59 1.41.59.51 0 1.02-.2 1.41-.59l7.78-7.78 2.81-2.81c.8-.78.8-2.07 0-2.86zM5.41 20L4 18.59l7.72-7.72 1.47 1.35L5.41 20z\"/>\n",
              "  </svg>\n",
              "      </button>\n",
              "      \n",
              "  <style>\n",
              "    .colab-df-container {\n",
              "      display:flex;\n",
              "      flex-wrap:wrap;\n",
              "      gap: 12px;\n",
              "    }\n",
              "\n",
              "    .colab-df-convert {\n",
              "      background-color: #E8F0FE;\n",
              "      border: none;\n",
              "      border-radius: 50%;\n",
              "      cursor: pointer;\n",
              "      display: none;\n",
              "      fill: #1967D2;\n",
              "      height: 32px;\n",
              "      padding: 0 0 0 0;\n",
              "      width: 32px;\n",
              "    }\n",
              "\n",
              "    .colab-df-convert:hover {\n",
              "      background-color: #E2EBFA;\n",
              "      box-shadow: 0px 1px 2px rgba(60, 64, 67, 0.3), 0px 1px 3px 1px rgba(60, 64, 67, 0.15);\n",
              "      fill: #174EA6;\n",
              "    }\n",
              "\n",
              "    [theme=dark] .colab-df-convert {\n",
              "      background-color: #3B4455;\n",
              "      fill: #D2E3FC;\n",
              "    }\n",
              "\n",
              "    [theme=dark] .colab-df-convert:hover {\n",
              "      background-color: #434B5C;\n",
              "      box-shadow: 0px 1px 3px 1px rgba(0, 0, 0, 0.15);\n",
              "      filter: drop-shadow(0px 1px 2px rgba(0, 0, 0, 0.3));\n",
              "      fill: #FFFFFF;\n",
              "    }\n",
              "  </style>\n",
              "\n",
              "      <script>\n",
              "        const buttonEl =\n",
              "          document.querySelector('#df-534c4b92-c471-4aa6-81b0-786d566a55f4 button.colab-df-convert');\n",
              "        buttonEl.style.display =\n",
              "          google.colab.kernel.accessAllowed ? 'block' : 'none';\n",
              "\n",
              "        async function convertToInteractive(key) {\n",
              "          const element = document.querySelector('#df-534c4b92-c471-4aa6-81b0-786d566a55f4');\n",
              "          const dataTable =\n",
              "            await google.colab.kernel.invokeFunction('convertToInteractive',\n",
              "                                                     [key], {});\n",
              "          if (!dataTable) return;\n",
              "\n",
              "          const docLinkHtml = 'Like what you see? Visit the ' +\n",
              "            '<a target=\"_blank\" href=https://colab.research.google.com/notebooks/data_table.ipynb>data table notebook</a>'\n",
              "            + ' to learn more about interactive tables.';\n",
              "          element.innerHTML = '';\n",
              "          dataTable['output_type'] = 'display_data';\n",
              "          await google.colab.output.renderOutput(dataTable, element);\n",
              "          const docLink = document.createElement('div');\n",
              "          docLink.innerHTML = docLinkHtml;\n",
              "          element.appendChild(docLink);\n",
              "        }\n",
              "      </script>\n",
              "    </div>\n",
              "  </div>\n",
              "  "
            ],
            "text/plain": [
              "          0       1       2         3         4         5\n",
              "0  123203.0     0.0   0.000  0.000000  0.000000  0.000000\n",
              "1  131669.0   846.6   0.000  0.000000  0.000000  0.000000\n",
              "2  150697.0  1902.8  52.810  0.000000  0.000000  0.000000\n",
              "3  179323.0  2862.6  47.990 -0.160667  0.000000  0.000000\n",
              "4  203212.0  2388.9 -23.685 -2.389167 -0.055712  0.000000\n",
              "5  226505.0  2329.3  -2.980  0.690167  0.076983  0.002654"
            ]
          },
          "metadata": {},
          "execution_count": 27
        }
      ]
    },
    {
      "cell_type": "markdown",
      "source": [
        "###Cubic Spline"
      ],
      "metadata": {
        "id": "LO5dAUyvyAap"
      }
    },
    {
      "cell_type": "code",
      "source": [
        "def cubic_spline(X: tuple, Y:tuple, xmin: float, xmax: float, predict: float):\n",
        "  f = CubicSpline(X, Y, bc_type='natural')\n",
        "  x_new = np.linspace(xmin, xmax, 100)\n",
        "  y_new = f(x_new)\n",
        "\n",
        "  print(f'Prediction for {predict}: {f(predict)}')\n",
        "\n",
        "  plt.figure(figsize = (10,8))\n",
        "  plt.plot(x_new, y_new, 'b')\n",
        "  plt.plot(X, Y, 'ro')\n",
        "  plt.title('Cubic Spline Interpolation')\n",
        "  plt.xlabel('x')\n",
        "  plt.ylabel('y')\n",
        "  plt.show()"
      ],
      "metadata": {
        "id": "BhOZoH50yDuX"
      },
      "execution_count": null,
      "outputs": []
    },
    {
      "cell_type": "code",
      "source": [
        "cubic_spline((0, 1, 2), (1, 3, 2), 0, 2, 1.5)"
      ],
      "metadata": {
        "colab": {
          "base_uri": "https://localhost:8080/",
          "height": 530
        },
        "id": "qfiuPu9Y_QXy",
        "outputId": "991fdd50-fc84-4d83-e773-f4c8eb709bcc"
      },
      "execution_count": null,
      "outputs": [
        {
          "output_type": "stream",
          "name": "stdout",
          "text": [
            "Prediction for 1.5: 2.78125\n"
          ]
        },
        {
          "output_type": "display_data",
          "data": {
            "image/png": "[encoded data removed]",
            "text/plain": [
              "<Figure size 720x576 with 1 Axes>"
            ]
          },
          "metadata": {
            "needs_background": "light"
          }
        }
      ]
    },
    {
      "cell_type": "markdown",
      "source": [
        "##Numerical Differentiation"
      ],
      "metadata": {
        "id": "s13fGtQqlvji"
      }
    },
    {
      "cell_type": "markdown",
      "source": [
        "###Five-endpoint formula"
      ],
      "metadata": {
        "id": "PpR2Q3_umN_4"
      }
    },
    {
      "cell_type": "code",
      "source": [
        "def five_endpoint_diff(f: 'function', x0: float, h: float) -> float:\n",
        "  return ( -25*f(x0) + 48*f(x0+h) - 36*f(x0+(2*h)) + 16*f(x0+(3*h)) - 3*f(x0+(4*h)) ) / (12*h)"
      ],
      "metadata": {
        "id": "jBA51TMolzDm"
      },
      "execution_count": null,
      "outputs": []
    },
    {
      "cell_type": "markdown",
      "source": [
        "###Five-endpoint formula (without function)"
      ],
      "metadata": {
        "id": "9R2CXe7LtNK2"
      }
    },
    {
      "cell_type": "code",
      "source": [
        "def five_endpoint_diff_no_func(y: tuple, h: float) -> float:\n",
        "  return ( -25*y[0] + 48*y[1] - 36*y[2] + 16*y[3] - 3*y[4] ) / (12*h)"
      ],
      "metadata": {
        "id": "aONPHdWjtWnB"
      },
      "execution_count": null,
      "outputs": []
    },
    {
      "cell_type": "markdown",
      "source": [
        "##Numerical Integration"
      ],
      "metadata": {
        "id": "DnJ4ze2ZWm9A"
      }
    },
    {
      "cell_type": "markdown",
      "source": [
        "###Simpson 1/3"
      ],
      "metadata": {
        "id": "vK4Ql_4wWrAz"
      }
    },
    {
      "cell_type": "code",
      "source": [
        "def simpson_1_3(values: tuple, h: float) -> float:\n",
        "  return (h/3) * (values[0] + (4*values[1]) + values[2])"
      ],
      "metadata": {
        "id": "zCFEHwOMWpmn"
      },
      "execution_count": null,
      "outputs": []
    },
    {
      "cell_type": "code",
      "source": [
        "fx = (0, 8, 0)\n",
        "h = 2\n",
        "\n",
        "simpson_1_3(fx, h)"
      ],
      "metadata": {
        "colab": {
          "base_uri": "https://localhost:8080/"
        },
        "id": "ooJQFpXbkWDu",
        "outputId": "794396e8-0fae-4bb4-9bb0-665bb91c6d8f"
      },
      "execution_count": null,
      "outputs": [
        {
          "output_type": "execute_result",
          "data": {
            "text/plain": [
              "21.333333333333332"
            ]
          },
          "metadata": {},
          "execution_count": 6
        }
      ]
    },
    {
      "cell_type": "markdown",
      "source": [
        "###Simpson 3/8"
      ],
      "metadata": {
        "id": "Jk63bKolbCKM"
      }
    },
    {
      "cell_type": "code",
      "source": [
        "def simpson_3_8(values: tuple, h: float) -> float:\n",
        "  return ((3*h)/8) * (values[0] + (3*values[1]) + (3*values[2]) + values[3])"
      ],
      "metadata": {
        "id": "FsgQGNiba-x8"
      },
      "execution_count": null,
      "outputs": []
    },
    {
      "cell_type": "code",
      "source": [
        "fx = (0, 64/9, 64/9, 0)\n",
        "h = 4/3\n",
        "\n",
        "simpson_3_8(fx, h)"
      ],
      "metadata": {
        "colab": {
          "base_uri": "https://localhost:8080/"
        },
        "id": "xAIPChxJuI63",
        "outputId": "c18e6a51-bb4d-43d8-b630-666bbe6bda8c"
      },
      "execution_count": null,
      "outputs": [
        {
          "output_type": "execute_result",
          "data": {
            "text/plain": [
              "21.333333333333332"
            ]
          },
          "metadata": {},
          "execution_count": 7
        }
      ]
    },
    {
      "cell_type": "markdown",
      "source": [
        "###Trapezoidal Rule"
      ],
      "metadata": {
        "id": "Rs5Qhogaq4uT"
      }
    },
    {
      "cell_type": "code",
      "source": [
        "def trapezoid_rule(f: 'function', a: float, b: float) -> float:\n",
        "  return (b-a) * ((f(a) + f(b)) / 2) "
      ],
      "metadata": {
        "id": "AyEYi4q_rMb-"
      },
      "execution_count": null,
      "outputs": []
    },
    {
      "cell_type": "code",
      "source": [
        "y = lambda x: np.sqrt(1 + (np.exp(2*x) * (np.tan(np.exp(x)))**2 ))\n",
        "\n",
        "trapezoid_rule(y, -2, 0)"
      ],
      "metadata": {
        "colab": {
          "base_uri": "https://localhost:8080/"
        },
        "id": "3IWYB-wuJS5C",
        "outputId": "87592644-76bc-486c-d612-c5ea34b32176"
      },
      "execution_count": null,
      "outputs": [
        {
          "output_type": "execute_result",
          "data": {
            "text/plain": [
              "2.8509855041132894"
            ]
          },
          "metadata": {},
          "execution_count": 43
        }
      ]
    },
    {
      "cell_type": "markdown",
      "source": [
        "###Trapezoidal Rule Multiple Application"
      ],
      "metadata": {
        "id": "u5TmA6GKwCKG"
      }
    },
    {
      "cell_type": "code",
      "source": [
        "def trapezoidal_rule_multi(values: tuple, f: 'function', h: float) -> float:\n",
        "  fxi = [f(i) for i in values[1:len(values)-1]]\n",
        "  fxi_sum = sum(fxi)\n",
        "  return (h/2) * ( f(values[0]) + 2*(fxi_sum) + f(values[len(values)-1]) )"
      ],
      "metadata": {
        "id": "GvHrCf-2wMqK"
      },
      "execution_count": null,
      "outputs": []
    },
    {
      "cell_type": "code",
      "source": [
        "y = lambda x: np.sqrt(1 + (np.exp(2*x) * (np.tan(np.exp(x)))**2 ))\n",
        "valores_x = (-2, -1, 0)\n",
        "h = 1\n",
        "\n",
        "trapezoidal_rule_multi(valores_x, y, h)"
      ],
      "metadata": {
        "colab": {
          "base_uri": "https://localhost:8080/"
        },
        "id": "h49FOv-O4b3S",
        "outputId": "e82ee213-e566-43fa-a051-43545844fe46"
      },
      "execution_count": null,
      "outputs": [
        {
          "output_type": "execute_result",
          "data": {
            "text/plain": [
              "2.4354949535440555"
            ]
          },
          "metadata": {},
          "execution_count": 41
        }
      ]
    },
    {
      "cell_type": "code",
      "source": [
        "y = lambda x: np.sqrt(1 + (np.exp(2*x) * (np.tan(np.exp(x)))**2 ))\n",
        "valores_x = (-2, -7/4, -3/2, -5/4, -1, -3/4, -1/2, -1/4, 0)\n",
        "h = 1/4\n",
        "\n",
        "trapezoidal_rule_multi(valores_x, y, h)"
      ],
      "metadata": {
        "colab": {
          "base_uri": "https://localhost:8080/"
        },
        "id": "fIdGcyonEhfl",
        "outputId": "7fc28622-9776-47e1-dc61-1bed94b1134a"
      },
      "execution_count": null,
      "outputs": [
        {
          "output_type": "execute_result",
          "data": {
            "text/plain": [
              "2.203919957096316"
            ]
          },
          "metadata": {},
          "execution_count": 42
        }
      ]
    },
    {
      "cell_type": "markdown",
      "source": [
        "##Ordinary Differential Equations"
      ],
      "metadata": {
        "id": "973t4te18K4k"
      }
    },
    {
      "cell_type": "code",
      "source": [
        "def runge_kutta_ord2_c1(f: 'function', xv: list, y0: float, h: float):\n",
        "  y_values = [y0]\n",
        "  k1 = f(xv[0], y0)\n",
        "  k2 = f(xv[0]+h, y0+k1*h)\n",
        "\n",
        "  yi = y0 + ((0.5*k1)+(0.5*k2))*h\n",
        "  y_values.append(yi)\n",
        "\n",
        "  for x in xv[1:]:\n",
        "    k1 = f(x, yi)\n",
        "    k2 = f(x+h, yi+k1*h)\n",
        "\n",
        "    yi = yi + ((0.5*k1)+(0.5*k2))*h\n",
        "    y_values.append(yi)\n",
        "\n",
        "  return y_values"
      ],
      "metadata": {
        "id": "6VUb_i-w8aVf"
      },
      "execution_count": 3,
      "outputs": []
    },
    {
      "cell_type": "code",
      "source": [
        "def f(x, y):\n",
        "  return (x*np.exp(3*x)) - 2*y\n",
        "\n",
        "xx = [0, 0.5, 1]\n",
        "yy = runge_kutta_ord2_c1(f, xx, 0, 0.5)\n",
        "\n",
        "fig, ax = plt.subplots(figsize=(10, 7))\n",
        "ax.plot(xx, yy[:3])\n",
        "\n",
        "print(yy)"
      ],
      "metadata": {
        "colab": {
          "base_uri": "https://localhost:8080/",
          "height": 446
        },
        "id": "TkOlkqTYCJzA",
        "outputId": "bf1cddf4-11bd-4ab4-d6e9-b9447ee776ea"
      },
      "execution_count": 8,
      "outputs": [
        {
          "output_type": "stream",
          "name": "stdout",
          "text": [
            "[0, 0.5602111337922581, 5.301489797693046, 36.4071691365422]\n"
          ]
        },
        {
          "output_type": "display_data",
          "data": {
            "text/plain": [
              "<Figure size 720x504 with 1 Axes>"
            ],
            "image/png": "[encoded data removed]"
          },
          "metadata": {
            "needs_background": "light"
          }
        }
      ]
    },
    {
      "cell_type": "code",
      "source": [
        "def runge_kutta_ord2_c2(f: 'function', xv: list, y0: float, h: float):\n",
        "  y_values = [y0]\n",
        "  k1 = f(xv[0], y0)\n",
        "  k2 = f(xv[0]+(0.5*h), y0+(0.5*k1*h))\n",
        "\n",
        "  yi = y0 + (k2)*h\n",
        "  y_values.append(yi)\n",
        "\n",
        "  for x in xv[1:]:\n",
        "    k1 = f(x, yi)\n",
        "    k2 = f(x+(0.5*h), yi+(0.5*k1*h))\n",
        "\n",
        "    yi = yi + (k2)*h\n",
        "    y_values.append(yi)\n",
        "\n",
        "  return y_values"
      ],
      "metadata": {
        "id": "uIKpFA9zGdAj"
      },
      "execution_count": 5,
      "outputs": []
    },
    {
      "cell_type": "code",
      "source": [
        "def runge_kutta_ord2_c3(f: 'function', xv: list, y0: float, h: float):\n",
        "  y_values = [y0]\n",
        "  k1 = f(xv[0], y0)\n",
        "  k2 = f(xv[0]+((3/4)*h), y0+((3/4)*k1*h))\n",
        "\n",
        "  yi = y0 + (((1/3)*k1)+((2/3)*k2))*h\n",
        "  y_values.append(yi)\n",
        "\n",
        "  for x in xv[1:]:\n",
        "    k1 = f(x, yi)\n",
        "    k2 = f(x+((3/4)*h), yi+((3/4)*k1*h))\n",
        "\n",
        "    yi = y0 + (((1/3)*k1)+((2/3)*k2))*h\n",
        "    y_values.append(yi)\n",
        "\n",
        "  return y_values"
      ],
      "metadata": {
        "id": "h9bFXVVz7wzu"
      },
      "execution_count": 6,
      "outputs": []
    }
  ]
}