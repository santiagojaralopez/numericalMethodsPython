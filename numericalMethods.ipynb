{
  "nbformat": 4,
  "nbformat_minor": 0,
  "metadata": {
    "colab": {
      "name": "numericalMethods.ipynb",
      "provenance": [],
      "authorship_tag": "ABX9TyMlXt7WnV/i9xvj9f1Ob8Qx",
      "include_colab_link": true
    },
    "kernelspec": {
      "name": "python3",
      "display_name": "Python 3"
    },
    "language_info": {
      "name": "python"
    }
  },
  "cells": [
    {
      "cell_type": "markdown",
      "metadata": {
        "id": "view-in-github",
        "colab_type": "text"
      },
      "source": [
        "<a href=\"https://colab.research.google.com/github/santiagojaralopez/numericalMethodsPython/blob/main/numericalMethods.ipynb\" target=\"_parent\"><img src=\"https://colab.research.google.com/assets/colab-badge.svg\" alt=\"Open In Colab\"/></a>"
      ]
    },
    {
      "cell_type": "markdown",
      "source": [
        "#Numerical methods with Python"
      ],
      "metadata": {
        "id": "b7sMPbvWSmNq"
      }
    },
    {
      "cell_type": "code",
      "execution_count": 2,
      "metadata": {
        "id": "DUOOCsmKL89I"
      },
      "outputs": [],
      "source": [
        "import numpy as np\n",
        "from scipy.misc import derivative"
      ]
    },
    {
      "cell_type": "markdown",
      "source": [
        "###Bisection Method"
      ],
      "metadata": {
        "id": "OJ5Vc6u3SyrI"
      }
    },
    {
      "cell_type": "code",
      "source": [
        "def bisection(function, low_lim, upp_lim, itr):\n",
        "  prev_itr = 0\n",
        "\n",
        "  for i in range(itr-1):\n",
        "    current_itr = (low_lim + upp_lim) / 2\n",
        "    e = abs( (current_itr - prev_itr) / current_itr )*100\n",
        "\n",
        "    print(f'Lower limit: {low_lim}  |  x{i}: {current_itr}  |  Upper limit: {upp_lim}')\n",
        "    print(f'f({current_itr})= {function(current_itr)}')\n",
        "    print(f'Error: {\"%.3f\"%e}%')\n",
        "    print('-'*9)\n",
        "\n",
        "    if (function(low_lim)*function(current_itr)) < 0:\n",
        "      upp_lim = current_itr\n",
        "    else:\n",
        "      low_lim = current_itr\n",
        "\n",
        "    prev_itr = current_itr\n",
        "\n",
        "  return current_itr"
      ],
      "metadata": {
        "id": "vFs76k_AS4zO"
      },
      "execution_count": 51,
      "outputs": []
    },
    {
      "cell_type": "code",
      "source": [
        "def f(x):\n",
        "  return np.log(x**2)-0.7\n",
        "\n",
        "ans = bisection(f, 0.5, 2, 6)"
      ],
      "metadata": {
        "colab": {
          "base_uri": "https://localhost:8080/"
        },
        "id": "320KSOcmU5HV",
        "outputId": "d04df7dd-afa7-4c29-a7c9-67fca2611323"
      },
      "execution_count": 55,
      "outputs": [
        {
          "output_type": "stream",
          "name": "stdout",
          "text": [
            "Lower limit: 0.5  |  x0: 1.25  |  Upper limit: 2\n",
            "f(1.25)= -0.2537128973715804\n",
            "Error: 100.000%\n",
            "---------\n",
            "Lower limit: 1.25  |  x1: 1.625  |  Upper limit: 2\n",
            "f(1.625)= 0.2710156315634017\n",
            "Error: 23.077%\n",
            "---------\n",
            "Lower limit: 1.25  |  x2: 1.4375  |  Upper limit: 1.625\n",
            "f(1.4375)= 0.025810987378736994\n",
            "Error: 13.043%\n",
            "---------\n",
            "Lower limit: 1.25  |  x3: 1.34375  |  Upper limit: 1.4375\n",
            "f(1.34375)= -0.10907157421232816\n",
            "Error: 6.977%\n",
            "---------\n",
            "Lower limit: 1.34375  |  x4: 1.390625  |  Upper limit: 1.4375\n",
            "f(1.390625)= -0.040493427255063996\n",
            "Error: 3.371%\n",
            "---------\n"
          ]
        }
      ]
    },
    {
      "cell_type": "markdown",
      "source": [
        "###Regula Falsi (False position)"
      ],
      "metadata": {
        "id": "I3ENne_zZ8i5"
      }
    },
    {
      "cell_type": "code",
      "source": [
        "def regula_falsi(function, low_lim, upp_lim, itr):\n",
        "  prev_itr = 0\n",
        "\n",
        "  for i in range(itr-1):\n",
        "    current_itr = upp_lim + (( function(upp_lim)*(low_lim-upp_lim) )/( function(upp_lim)-function(low_lim) ))\n",
        "    e = abs( (current_itr - prev_itr) / current_itr )*100\n",
        "\n",
        "    print(f'Lower limit: {low_lim}  |  x{i}: {current_itr}  |  Upper limit: {upp_lim}')\n",
        "    print(f'f({current_itr})= {function(current_itr)}')\n",
        "    print(f'Error: {\"%.3f\"%e}%')\n",
        "    print('-'*9)\n",
        "\n",
        "    if (function(low_lim)*function(current_itr)) < 0:\n",
        "      upp_lim = current_itr\n",
        "    else:\n",
        "      low_lim = current_itr\n",
        "\n",
        "    prev_itr = current_itr\n",
        "\n",
        "  return current_itr"
      ],
      "metadata": {
        "id": "0e7Xzj3NaA3f"
      },
      "execution_count": 56,
      "outputs": []
    },
    {
      "cell_type": "code",
      "source": [
        "def f(x):\n",
        "  return np.log(x**2)-0.7\n",
        "\n",
        "ans = regula_falsi(f, 0.5, 2, 6)"
      ],
      "metadata": {
        "colab": {
          "base_uri": "https://localhost:8080/"
        },
        "id": "IqRAuFc3bYxP",
        "outputId": "6a047a55-cb9d-43ca-a2fd-09586ab56b47"
      },
      "execution_count": 58,
      "outputs": [
        {
          "output_type": "stream",
          "name": "stdout",
          "text": [
            "Lower limit: 0.5  |  x0: 1.628707448233353  |  Upper limit: 2\n",
            "f(1.628707448233353)= 0.27557344740501244\n",
            "Error: 100.000%\n",
            "---------\n",
            "Lower limit: 0.5  |  x1: 1.4970143020298659  |  Upper limit: 1.628707448233353\n",
            "f(1.4970143020298659)= 0.10694531837203947\n",
            "Error: 8.797%\n",
            "---------\n",
            "Lower limit: 0.5  |  x2: 1.4483985429092023  |  Upper limit: 1.4970143020298659\n",
            "f(1.4483985429092023)= 0.04091698581713721\n",
            "Error: 3.357%\n",
            "---------\n",
            "Lower limit: 0.5  |  x3: 1.4301560632491133  |  Upper limit: 1.4483985429092023\n",
            "f(1.4301560632491133)= 0.01556714691249994\n",
            "Error: 1.276%\n",
            "---------\n",
            "Lower limit: 0.5  |  x4: 1.423266990856467  |  Upper limit: 1.4301560632491133\n",
            "f(1.423266990856467)= 0.005909853693258804\n",
            "Error: 0.484%\n",
            "---------\n"
          ]
        }
      ]
    }
  ]
}